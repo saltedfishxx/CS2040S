{
 "cells": [
  {
   "cell_type": "code",
   "execution_count": 1,
   "metadata": {},
   "outputs": [
    {
     "name": "stdout",
     "output_type": "stream",
     "text": [
      "['Beautiful']\n",
      "['better', 'than']\n",
      "ylgu\n"
     ]
    }
   ],
   "source": [
    "#Q1 correct\n",
    "sentence = 'Beautiful is better than ugly'.split(' ')\n",
    "print(sentence[0:1])\n",
    "print(sentence[2:4])\n",
    "print(sentence[4][::-1])\n",
    "\n"
   ]
  },
  {
   "cell_type": "code",
   "execution_count": 2,
   "metadata": {},
   "outputs": [
    {
     "name": "stdout",
     "output_type": "stream",
     "text": [
      "{'apple': 4, 'orange': 2, 'durian': 3, 'coconut': 6}\n"
     ]
    }
   ],
   "source": [
    "#Q2 correct\n",
    "x = { 'apple':1, 'orange':2, 'durian':3 }\n",
    "x['apple'] = 4\n",
    "x['coconut'] = 6\n",
    "print(x)"
   ]
  },
  {
   "cell_type": "code",
   "execution_count": 8,
   "metadata": {},
   "outputs": [
    {
     "name": "stdout",
     "output_type": "stream",
     "text": [
      "No\n"
     ]
    }
   ],
   "source": [
    "#Q3 correct\n",
    "\n",
    "if value < 70:\n",
    "    if value < 30:\n",
    "        print(\"No\")\n",
    "    elif value < 60:\n",
    "        print(\"Yes\")"
   ]
  },
  {
   "cell_type": "code",
   "execution_count": 9,
   "metadata": {},
   "outputs": [
    {
     "name": "stdout",
     "output_type": "stream",
     "text": [
      "apple\n",
      "apple\n",
      "apple\n",
      "apple\n"
     ]
    }
   ],
   "source": [
    "#Q4 correct\n",
    "for i in range(1, 5):\n",
    "    print(\"apple\")"
   ]
  },
  {
   "cell_type": "code",
   "execution_count": 10,
   "metadata": {},
   "outputs": [
    {
     "name": "stdout",
     "output_type": "stream",
     "text": [
      "3\n",
      "4\n",
      "5\n",
      "7\n",
      "True\n"
     ]
    }
   ],
   "source": [
    "#Q5 correct\n",
    "flag = False\n",
    "x = 2\n",
    "while x <= 6:\n",
    "    x += 1\n",
    "    if x % 2 == 0 and x % 3 == 0:\n",
    "        flag = not flag\n",
    "    else:\n",
    "        print (x)\n",
    "print(flag)"
   ]
  },
  {
   "cell_type": "code",
   "execution_count": 11,
   "metadata": {},
   "outputs": [
    {
     "name": "stdout",
     "output_type": "stream",
     "text": [
      "1 0\n",
      "2 1\n",
      "3 2\n",
      "4 1\n",
      "5 2\n"
     ]
    }
   ],
   "source": [
    "#Q6 correct\n",
    "a = 1\n",
    "while 17 % a != 5:\n",
    "    print(str(a)+ \" \" + str(17 % a))\n",
    "    a += 1"
   ]
  },
  {
   "cell_type": "code",
   "execution_count": 12,
   "metadata": {},
   "outputs": [
    {
     "name": "stdout",
     "output_type": "stream",
     "text": [
      "orange\n",
      "2\n",
      "1\n"
     ]
    }
   ],
   "source": [
    "#Q7 correct\n",
    "y = 3\n",
    "x = 2\n",
    "x = 1\n",
    "y = x\n",
    "if x > 1:\n",
    "    print(\"apple\")\n",
    "elif x < 4:\n",
    "    print(\"orange\")\n",
    "else:\n",
    "    print(\"grape\")\n",
    "print(x + 1)\n",
    "print(y)"
   ]
  },
  {
   "cell_type": "code",
   "execution_count": 13,
   "metadata": {},
   "outputs": [
    {
     "name": "stdout",
     "output_type": "stream",
     "text": [
      "3\n",
      "1\n",
      "1\n",
      "5\n",
      "15\n"
     ]
    }
   ],
   "source": [
    "#Q8 correct\n",
    "x = [[1],[2,3],[4,5,6]]\n",
    "print(len(x))\n",
    "print(len(x[0]))\n",
    "for i in range(len(x)):\n",
    "    sum = 0\n",
    "    for j in range(len(x[i])):\n",
    "        sum += x[i][j]\n",
    "    print(sum)"
   ]
  },
  {
   "cell_type": "code",
   "execution_count": 14,
   "metadata": {},
   "outputs": [
    {
     "name": "stdout",
     "output_type": "stream",
     "text": [
      "0.25\n"
     ]
    }
   ],
   "source": [
    "#Q8 correct\n",
    "y = 8\n",
    "x = 2 % 5\n",
    "print(x / y)"
   ]
  },
  {
   "cell_type": "code",
   "execution_count": 17,
   "metadata": {},
   "outputs": [
    {
     "name": "stdout",
     "output_type": "stream",
     "text": [
      "orange\n"
     ]
    }
   ],
   "source": [
    "#Q10 WRONG\n",
    "def test_one(x):\n",
    "    x -= 1\n",
    "    return x > 4\n",
    "def test_two(x):\n",
    "    print (x)\n",
    "    return x <= 8\n",
    "\n",
    "x = 5\n",
    "if test_one(x) and test_two(x):\n",
    "    print(\"apple\")\n",
    "elif x >= 5:\n",
    "    print(\"orange\")"
   ]
  },
  {
   "cell_type": "code",
   "execution_count": 21,
   "metadata": {},
   "outputs": [
    {
     "name": "stdout",
     "output_type": "stream",
     "text": [
      "[5, 8]\n",
      "[6, 7]\n"
     ]
    }
   ],
   "source": [
    "#Q11 Correct\n",
    "def perform_magic(first, second):\n",
    "    third = first[0]\n",
    "    first[0][0] = 5\n",
    "    \n",
    "    second.append(third)\n",
    "    second[1][1] = 8\n",
    "    second.append([6,7])\n",
    "    \n",
    "first = [[3,4]]\n",
    "second = [[1,2]]\n",
    "\n",
    "perform_magic(first, second)\n",
    "print(first[0])\n",
    "print(second[2])"
   ]
  },
  {
   "cell_type": "code",
   "execution_count": 22,
   "metadata": {},
   "outputs": [
    {
     "name": "stdout",
     "output_type": "stream",
     "text": [
      "pear orange apple\n",
      "ORANGE PAPAYA APPLE\n",
      "orange papaya apple\n",
      "APPLE ORANGE PEAR\n"
     ]
    }
   ],
   "source": [
    "#Q12 Correct\n",
    "def caps_display(fruit1, fruit2, fruit3):\n",
    "    print(fruit1.upper(), fruit2.upper(), fruit3.upper())\n",
    "def display(fruit1, fruit2, fruit3):\n",
    "    print(fruit1 + \" \" + fruit2 + \" \" + fruit3)\n",
    "    fruit1 = fruit2\n",
    "    fruit2 = \"papaya\"\n",
    "    caps_display(fruit1, fruit2, fruit3)\n",
    "    print(fruit1 + \" \" + fruit2 + \" \" + fruit3)\n",
    "fruit1 = \"apple\"\n",
    "fruit2 = \"orange\"\n",
    "fruit3 = \"pear\"\n",
    "# Note the order of the variables\n",
    "display(fruit3, fruit2, fruit1)\n",
    "caps_display(fruit1, fruit2, fruit3)"
   ]
  },
  {
   "cell_type": "code",
   "execution_count": 26,
   "metadata": {},
   "outputs": [
    {
     "name": "stdout",
     "output_type": "stream",
     "text": [
      "***1***\n",
      "2*****3\n",
      "***4***\n",
      "5*****6\n",
      "***7***\n",
      "8*****9\n",
      "***10***\n"
     ]
    }
   ],
   "source": [
    "#Q13 Correct\n",
    "def hopscotch(hops):\n",
    "    num = 1\n",
    "    print('***' + str(num) + '***')\n",
    "    num += 1\n",
    "    for i in range (1, hops):\n",
    "        print(str(num) + '*****' + str(num + 1))\n",
    "        print('***' + str(num + 2) + '***')\n",
    "        num += 3\n",
    "hopscotch(4)"
   ]
  },
  {
   "cell_type": "code",
   "execution_count": 33,
   "metadata": {},
   "outputs": [
    {
     "name": "stdout",
     "output_type": "stream",
     "text": [
      "['apple', 'orange', 'pear', 'durian', 'banana']\n"
     ]
    }
   ],
   "source": [
    "#SectionB Q1 Correct\n",
    "def extract_unique_words(fruits):\n",
    "    result = []\n",
    "    for f in fruits:\n",
    "        if f not in result:\n",
    "            result.append(f)\n",
    "    return result\n",
    "a = ['apple', 'orange', 'pear', 'apple','durian', 'apple', 'banana']\n",
    "answers =extract_unique_words(a)\n",
    "print(answers)"
   ]
  },
  {
   "cell_type": "code",
   "execution_count": 35,
   "metadata": {},
   "outputs": [
    {
     "name": "stdout",
     "output_type": "stream",
     "text": [
      "Enter a number >12\n",
      "The sum has yet to exceed 30.\n",
      "\n",
      "Enter a number >18\n",
      "The sum has yet to exceed 30.\n",
      "\n",
      "Enter a number >1\n",
      "The sum is 31\n"
     ]
    }
   ],
   "source": [
    "#SectionB Q2 Correct\n",
    "number = int(input(\"Enter a number >\"))\n",
    "\n",
    "while not number > 30:\n",
    "\tprint(\"The sum has yet to exceed 30.\")\n",
    "\tprint()\n",
    "\tnumber += int(input(\"Enter a number >\"))\n",
    "print(\"The sum is 31\")\n"
   ]
  },
  {
   "cell_type": "code",
   "execution_count": 38,
   "metadata": {},
   "outputs": [
    {
     "name": "stdout",
     "output_type": "stream",
     "text": [
      "Dec 09 2013\n"
     ]
    }
   ],
   "source": [
    "#SectionB Q3 Correct\n",
    "def convert_date(given_date):\n",
    "\tdate_Arr = given_date.split(\"-\")\n",
    "\tif int(date_Arr[0]) < 10:\n",
    "\t\treturn date_Arr[1] + \" \" + \"0\" + date_Arr[0]+ \" \" + date_Arr[2]\n",
    "\telse:\n",
    "\t\treturn date_Arr[1] + \" \" + date_Arr[0]+ \" \" + date_Arr[2]\n",
    "print(convert_date(\"9-Dec-2013\"))"
   ]
  },
  {
   "cell_type": "code",
   "execution_count": 39,
   "metadata": {},
   "outputs": [
    {
     "name": "stdout",
     "output_type": "stream",
     "text": [
      "17\n",
      "225\n",
      "13\n",
      "11\n",
      "81\n",
      "7\n",
      "5\n",
      "9\n",
      "1\n"
     ]
    }
   ],
   "source": [
    "#SectionB Q4 Correct\n",
    "i = 18\n",
    "while i > 0:\n",
    "    if i % 2 == 0:\n",
    "        print(i - 1)\n",
    "        i -= 3\n",
    "    elif i % 3 == 0:\n",
    "        print(i * i)\n",
    "        i -= 1\n",
    "    else:\n",
    "        i += 1 "
   ]
  },
  {
   "cell_type": "code",
   "execution_count": 41,
   "metadata": {},
   "outputs": [
    {
     "name": "stdout",
     "output_type": "stream",
     "text": [
      "Enter num >154\n",
      "154 is not cheerful.\n"
     ]
    }
   ],
   "source": [
    "#SectionB Q5 Correct\n",
    "num = int(input(\"Enter num >\"))\n",
    "\n",
    "while not (num > 0 and num <= 200):\n",
    "\tprint(num,\"is invalid.\")\n",
    "\tprint()\n",
    "\tnum = int(input(\"Enter num >\"))\n",
    "\n",
    "sum_odd = 0\n",
    "\n",
    "for digit in(str(num)):\n",
    "\tif int(digit) % 2 != 0:\n",
    "\t\tsum_odd += int(digit)\n",
    "\n",
    "if sum_odd == 0 or num%sum_odd == 0:\n",
    "\tprint(num,\"is cheerful.\")\n",
    "else:\n",
    "\tprint(num,\"is not cheerful.\")"
   ]
  },
  {
   "cell_type": "code",
   "execution_count": 44,
   "metadata": {},
   "outputs": [
    {
     "name": "stdout",
     "output_type": "stream",
     "text": [
      "Enter string 1 >apple\n",
      "Enter string 2 >apple\n",
      "Enter string 3 >pear\n",
      "2 unique\n"
     ]
    }
   ],
   "source": [
    "#SectionB Q6 Correct\n",
    "def num_unique(value1,value2,value3):\n",
    "\tall_values = [value1,value2,value3]\n",
    "\tall_values = list(set(all_values))\n",
    "\treturn len(all_values)\n",
    "value1 = input ('Enter string 1 >')\n",
    "value2 = input ('Enter string 2 >')\n",
    "value3 = input ('Enter string 3 >')\n",
    "\n",
    "result = num_unique(value1, value2, value3)\n",
    "print (result, 'unique')"
   ]
  },
  {
   "cell_type": "code",
   "execution_count": 49,
   "metadata": {},
   "outputs": [
    {
     "name": "stdout",
     "output_type": "stream",
     "text": [
      "Welcome to Guessing Game!\n",
      "\n",
      "Your guess (0 - 100)? 39\n",
      "Your guess is too high\n",
      "Your guess (0 - 100)? 30\n",
      "Your guess is too high\n",
      "Your guess (0 - 100)? 25\n",
      "Your guess is too high\n",
      "Your guess (0 - 100)? 20\n",
      "Your guess is too high\n",
      "Your guess (0 - 100)? 15\n",
      "Your guess is too high\n",
      "Your guess (0 - 100)? 10\n",
      "Your guess is too high\n",
      "Your guess (0 - 100)? 5\n",
      "Your guess is too high\n",
      "Your guess (0 - 100)? 2\n",
      "Your guess is too low\n",
      "Your guess (0 - 100)? 3\n",
      "Your guess is too low\n",
      "Your guess (0 - 100)? 4\n",
      "Bingo!\n",
      "You got it right in 10 tries.\n",
      "Another game (Y or N)? Y\n",
      "\n",
      "Your guess (0 - 100)? 29\n",
      "Your guess is too low\n",
      "Your guess (0 - 100)? 59\n",
      "Your guess is too low\n",
      "Your guess (0 - 100)? 70\n",
      "Your guess is too low\n",
      "Your guess (0 - 100)? 80\n",
      "Your guess is too low\n",
      "Your guess (0 - 100)? 90\n",
      "Your guess is too low\n",
      "Your guess (0 - 100)? 95\n",
      "Your guess is too low\n",
      "Your guess (0 - 100)? 100\n",
      "Your guess is too high\n",
      "Your guess (0 - 100)? 99\n",
      "Your guess is too high\n",
      "Your guess (0 - 100)? 98\n",
      "Bingo!\n",
      "You got it right in 9 tries.\n",
      "Another game (Y or N)? N\n",
      "\n",
      "Your average guess per game is 9.5\n"
     ]
    }
   ],
   "source": [
    "#SectionB Q7 Correct\n",
    "import random\n",
    "total_guess = 0\n",
    "num_games = 0\n",
    "num_guesses = 0\n",
    "print(\"Welcome to Guessing Game!\")\n",
    "print()\n",
    "reply = \"Y\" #added<-------------------- \n",
    "while reply == \"Y\":\n",
    "    num_guesses = 0\n",
    " # pick a random number from 0 to 100 (both inclusive)\n",
    " # There is no error in the line below, which is\n",
    " # equivalent to\n",
    " # number = random.randint(0, 100)\n",
    "    number = random.randrange(0, 101)\n",
    " # make it different from number so that it goes into loop\n",
    "    guess = number + 1\n",
    "\n",
    "    while guess != number :\n",
    "        guess = int(input(\"Your guess (0 - 100)? \"))\n",
    "        num_guesses += 1\n",
    "\n",
    "        if guess < number :\n",
    "            print(\"Your guess is too low\")\n",
    "        elif guess > number :\n",
    "            print(\"Your guess is too high\")\n",
    "        else:\n",
    "            print(\"Bingo!\")\n",
    "        # collect the statistics to calculate average guess\n",
    "        # per game\n",
    "            total_guess += num_guesses #swtich indent ----------\n",
    "            num_games += 1 #swtich indent --------\n",
    "    print(\"You got it right in \" + str(num_guesses) + \" tries.\")\n",
    "    reply = input(\"Another game (Y or N)? \").upper()\n",
    "    print()\n",
    "    while not(reply == \"Y\" or reply == \"N\"):\n",
    "        print(\"Invalid response\")\n",
    "        reply = input(\"Another game (Y or N)? \").upper()\n",
    "print(\"Your average guess per game is\", total_guess/num_games)"
   ]
  },
  {
   "cell_type": "code",
   "execution_count": null,
   "metadata": {},
   "outputs": [],
   "source": []
  }
 ],
 "metadata": {
  "kernelspec": {
   "display_name": "Python 3",
   "language": "python",
   "name": "python3"
  },
  "language_info": {
   "codemirror_mode": {
    "name": "ipython",
    "version": 3
   },
   "file_extension": ".py",
   "mimetype": "text/x-python",
   "name": "python",
   "nbconvert_exporter": "python",
   "pygments_lexer": "ipython3",
   "version": "3.8.3"
  }
 },
 "nbformat": 4,
 "nbformat_minor": 4
}
